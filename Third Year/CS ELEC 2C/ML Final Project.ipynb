{
 "cells": [
  {
   "cell_type": "code",
   "execution_count": null,
   "id": "e3c6e661",
   "metadata": {
    "scrolled": true
   },
   "outputs": [],
   "source": [
    "%pip install numpy pandas scikit-learn matplotlib imblearn nltk"
   ]
  },
  {
   "cell_type": "code",
   "execution_count": 1,
   "id": "868c1c00",
   "metadata": {
    "scrolled": true
   },
   "outputs": [],
   "source": [
    "import numpy as np\n",
    "import pandas as pd\n",
    "import seaborn as sns\n",
    "import nltk\n",
    "from nltk.stem import WordNetLemmatizer\n",
    "from gensim.models import Word2Vec\n",
    "from nltk.corpus import stopwords\n",
    "from nltk.tokenize import word_tokenize\n",
    "from matplotlib.pylab import plt\n",
    "from imblearn.under_sampling import RandomUnderSampler\n",
    "from sklearn.naive_bayes import GaussianNB\n",
    "from sklearn.metrics import accuracy_score, precision_score, recall_score, f1_score, roc_auc_score, roc_curve\n",
    "from sklearn.tree import DecisionTreeClassifier\n",
    "from sklearn.svm import SVC\n",
    "from sklearn.naive_bayes import MultinomialNB"
   ]
  },
  {
   "cell_type": "code",
   "execution_count": 2,
   "id": "0bc343ef",
   "metadata": {},
   "outputs": [
    {
     "data": {
      "text/html": [
       "<div>\n",
       "<style scoped>\n",
       "    .dataframe tbody tr th:only-of-type {\n",
       "        vertical-align: middle;\n",
       "    }\n",
       "\n",
       "    .dataframe tbody tr th {\n",
       "        vertical-align: top;\n",
       "    }\n",
       "\n",
       "    .dataframe thead th {\n",
       "        text-align: right;\n",
       "    }\n",
       "</style>\n",
       "<table border=\"1\" class=\"dataframe\">\n",
       "  <thead>\n",
       "    <tr style=\"text-align: right;\">\n",
       "      <th></th>\n",
       "      <th>Unnamed: 0</th>\n",
       "      <th>title</th>\n",
       "      <th>text</th>\n",
       "      <th>label</th>\n",
       "    </tr>\n",
       "  </thead>\n",
       "  <tbody>\n",
       "    <tr>\n",
       "      <th>0</th>\n",
       "      <td>0</td>\n",
       "      <td>LAW ENFORCEMENT ON HIGH ALERT Following Threat...</td>\n",
       "      <td>No comment is expected from Barack Obama Membe...</td>\n",
       "      <td>1</td>\n",
       "    </tr>\n",
       "    <tr>\n",
       "      <th>1</th>\n",
       "      <td>1</td>\n",
       "      <td>NaN</td>\n",
       "      <td>Did they post their votes for Hillary already?</td>\n",
       "      <td>1</td>\n",
       "    </tr>\n",
       "    <tr>\n",
       "      <th>2</th>\n",
       "      <td>2</td>\n",
       "      <td>UNBELIEVABLE! OBAMA’S ATTORNEY GENERAL SAYS MO...</td>\n",
       "      <td>Now, most of the demonstrators gathered last ...</td>\n",
       "      <td>1</td>\n",
       "    </tr>\n",
       "    <tr>\n",
       "      <th>3</th>\n",
       "      <td>3</td>\n",
       "      <td>Bobby Jindal, raised Hindu, uses story of Chri...</td>\n",
       "      <td>A dozen politically active pastors came here f...</td>\n",
       "      <td>0</td>\n",
       "    </tr>\n",
       "    <tr>\n",
       "      <th>4</th>\n",
       "      <td>4</td>\n",
       "      <td>SATAN 2: Russia unvelis an image of its terrif...</td>\n",
       "      <td>The RS-28 Sarmat missile, dubbed Satan 2, will...</td>\n",
       "      <td>1</td>\n",
       "    </tr>\n",
       "  </tbody>\n",
       "</table>\n",
       "</div>"
      ],
      "text/plain": [
       "   Unnamed: 0                                              title  \\\n",
       "0           0  LAW ENFORCEMENT ON HIGH ALERT Following Threat...   \n",
       "1           1                                                NaN   \n",
       "2           2  UNBELIEVABLE! OBAMA’S ATTORNEY GENERAL SAYS MO...   \n",
       "3           3  Bobby Jindal, raised Hindu, uses story of Chri...   \n",
       "4           4  SATAN 2: Russia unvelis an image of its terrif...   \n",
       "\n",
       "                                                text  label  \n",
       "0  No comment is expected from Barack Obama Membe...      1  \n",
       "1     Did they post their votes for Hillary already?      1  \n",
       "2   Now, most of the demonstrators gathered last ...      1  \n",
       "3  A dozen politically active pastors came here f...      0  \n",
       "4  The RS-28 Sarmat missile, dubbed Satan 2, will...      1  "
      ]
     },
     "execution_count": 2,
     "metadata": {},
     "output_type": "execute_result"
    }
   ],
   "source": [
    "data = pd.read_csv(\"D:\\Downloads\\WELFake_Dataset.csv\")\n",
    "data.head()"
   ]
  },
  {
   "cell_type": "code",
   "execution_count": 3,
   "id": "f8b977a3",
   "metadata": {
    "scrolled": true
   },
   "outputs": [
    {
     "name": "stdout",
     "output_type": "stream",
     "text": [
      "<class 'pandas.core.frame.DataFrame'>\n",
      "RangeIndex: 72134 entries, 0 to 72133\n",
      "Data columns (total 4 columns):\n",
      " #   Column      Non-Null Count  Dtype \n",
      "---  ------      --------------  ----- \n",
      " 0   Unnamed: 0  72134 non-null  int64 \n",
      " 1   title       71576 non-null  object\n",
      " 2   text        72095 non-null  object\n",
      " 3   label       72134 non-null  int64 \n",
      "dtypes: int64(2), object(2)\n",
      "memory usage: 2.2+ MB\n"
     ]
    }
   ],
   "source": [
    "data.info()"
   ]
  },
  {
   "cell_type": "code",
   "execution_count": 4,
   "id": "53ee779e",
   "metadata": {
    "scrolled": true
   },
   "outputs": [
    {
     "data": {
      "text/html": [
       "<div>\n",
       "<style scoped>\n",
       "    .dataframe tbody tr th:only-of-type {\n",
       "        vertical-align: middle;\n",
       "    }\n",
       "\n",
       "    .dataframe tbody tr th {\n",
       "        vertical-align: top;\n",
       "    }\n",
       "\n",
       "    .dataframe thead th {\n",
       "        text-align: right;\n",
       "    }\n",
       "</style>\n",
       "<table border=\"1\" class=\"dataframe\">\n",
       "  <thead>\n",
       "    <tr style=\"text-align: right;\">\n",
       "      <th></th>\n",
       "      <th>Unnamed: 0</th>\n",
       "      <th>label</th>\n",
       "    </tr>\n",
       "  </thead>\n",
       "  <tbody>\n",
       "    <tr>\n",
       "      <th>count</th>\n",
       "      <td>72134.000000</td>\n",
       "      <td>72134.000000</td>\n",
       "    </tr>\n",
       "    <tr>\n",
       "      <th>mean</th>\n",
       "      <td>36066.500000</td>\n",
       "      <td>0.514404</td>\n",
       "    </tr>\n",
       "    <tr>\n",
       "      <th>std</th>\n",
       "      <td>20823.436496</td>\n",
       "      <td>0.499796</td>\n",
       "    </tr>\n",
       "    <tr>\n",
       "      <th>min</th>\n",
       "      <td>0.000000</td>\n",
       "      <td>0.000000</td>\n",
       "    </tr>\n",
       "    <tr>\n",
       "      <th>25%</th>\n",
       "      <td>18033.250000</td>\n",
       "      <td>0.000000</td>\n",
       "    </tr>\n",
       "    <tr>\n",
       "      <th>50%</th>\n",
       "      <td>36066.500000</td>\n",
       "      <td>1.000000</td>\n",
       "    </tr>\n",
       "    <tr>\n",
       "      <th>75%</th>\n",
       "      <td>54099.750000</td>\n",
       "      <td>1.000000</td>\n",
       "    </tr>\n",
       "    <tr>\n",
       "      <th>max</th>\n",
       "      <td>72133.000000</td>\n",
       "      <td>1.000000</td>\n",
       "    </tr>\n",
       "  </tbody>\n",
       "</table>\n",
       "</div>"
      ],
      "text/plain": [
       "         Unnamed: 0         label\n",
       "count  72134.000000  72134.000000\n",
       "mean   36066.500000      0.514404\n",
       "std    20823.436496      0.499796\n",
       "min        0.000000      0.000000\n",
       "25%    18033.250000      0.000000\n",
       "50%    36066.500000      1.000000\n",
       "75%    54099.750000      1.000000\n",
       "max    72133.000000      1.000000"
      ]
     },
     "execution_count": 4,
     "metadata": {},
     "output_type": "execute_result"
    }
   ],
   "source": [
    "data.describe()"
   ]
  },
  {
   "cell_type": "markdown",
   "id": "76ce65d1",
   "metadata": {},
   "source": [
    "# Data Preprocessing"
   ]
  },
  {
   "cell_type": "code",
   "execution_count": 5,
   "id": "9794e724",
   "metadata": {},
   "outputs": [],
   "source": [
    "#drop unnecessary columns\n",
    "data.drop([\"Unnamed: 0\"], axis=1, inplace=True)"
   ]
  },
  {
   "cell_type": "code",
   "execution_count": 6,
   "id": "2b53ca19",
   "metadata": {},
   "outputs": [
    {
     "data": {
      "text/html": [
       "<div>\n",
       "<style scoped>\n",
       "    .dataframe tbody tr th:only-of-type {\n",
       "        vertical-align: middle;\n",
       "    }\n",
       "\n",
       "    .dataframe tbody tr th {\n",
       "        vertical-align: top;\n",
       "    }\n",
       "\n",
       "    .dataframe thead th {\n",
       "        text-align: right;\n",
       "    }\n",
       "</style>\n",
       "<table border=\"1\" class=\"dataframe\">\n",
       "  <thead>\n",
       "    <tr style=\"text-align: right;\">\n",
       "      <th></th>\n",
       "      <th>title</th>\n",
       "      <th>text</th>\n",
       "      <th>label</th>\n",
       "    </tr>\n",
       "  </thead>\n",
       "  <tbody>\n",
       "    <tr>\n",
       "      <th>0</th>\n",
       "      <td>LAW ENFORCEMENT ON HIGH ALERT Following Threat...</td>\n",
       "      <td>No comment is expected from Barack Obama Membe...</td>\n",
       "      <td>1</td>\n",
       "    </tr>\n",
       "    <tr>\n",
       "      <th>1</th>\n",
       "      <td>NaN</td>\n",
       "      <td>Did they post their votes for Hillary already?</td>\n",
       "      <td>1</td>\n",
       "    </tr>\n",
       "    <tr>\n",
       "      <th>2</th>\n",
       "      <td>UNBELIEVABLE! OBAMA’S ATTORNEY GENERAL SAYS MO...</td>\n",
       "      <td>Now, most of the demonstrators gathered last ...</td>\n",
       "      <td>1</td>\n",
       "    </tr>\n",
       "    <tr>\n",
       "      <th>3</th>\n",
       "      <td>Bobby Jindal, raised Hindu, uses story of Chri...</td>\n",
       "      <td>A dozen politically active pastors came here f...</td>\n",
       "      <td>0</td>\n",
       "    </tr>\n",
       "    <tr>\n",
       "      <th>4</th>\n",
       "      <td>SATAN 2: Russia unvelis an image of its terrif...</td>\n",
       "      <td>The RS-28 Sarmat missile, dubbed Satan 2, will...</td>\n",
       "      <td>1</td>\n",
       "    </tr>\n",
       "  </tbody>\n",
       "</table>\n",
       "</div>"
      ],
      "text/plain": [
       "                                               title  \\\n",
       "0  LAW ENFORCEMENT ON HIGH ALERT Following Threat...   \n",
       "1                                                NaN   \n",
       "2  UNBELIEVABLE! OBAMA’S ATTORNEY GENERAL SAYS MO...   \n",
       "3  Bobby Jindal, raised Hindu, uses story of Chri...   \n",
       "4  SATAN 2: Russia unvelis an image of its terrif...   \n",
       "\n",
       "                                                text  label  \n",
       "0  No comment is expected from Barack Obama Membe...      1  \n",
       "1     Did they post their votes for Hillary already?      1  \n",
       "2   Now, most of the demonstrators gathered last ...      1  \n",
       "3  A dozen politically active pastors came here f...      0  \n",
       "4  The RS-28 Sarmat missile, dubbed Satan 2, will...      1  "
      ]
     },
     "execution_count": 6,
     "metadata": {},
     "output_type": "execute_result"
    }
   ],
   "source": [
    "data.head()"
   ]
  },
  {
   "cell_type": "code",
   "execution_count": 7,
   "id": "a6a7a831",
   "metadata": {},
   "outputs": [
    {
     "data": {
      "text/plain": [
       "<AxesSubplot:>"
      ]
     },
     "execution_count": 7,
     "metadata": {},
     "output_type": "execute_result"
    },
    {
     "data": {
      "image/png": "[encoded data removed]",
      "text/plain": [
       "<Figure size 640x480 with 1 Axes>"
      ]
     },
     "metadata": {},
     "output_type": "display_data"
    }
   ],
   "source": [
    "data.isnull().sum().plot(kind='barh')"
   ]
  },
  {
   "cell_type": "code",
   "execution_count": 8,
   "id": "07a3052a",
   "metadata": {},
   "outputs": [],
   "source": [
    "data = data.fillna('')"
   ]
  },
  {
   "cell_type": "code",
   "execution_count": 9,
   "id": "91bd66c3",
   "metadata": {},
   "outputs": [
    {
     "data": {
      "text/plain": [
       "title    0\n",
       "text     0\n",
       "label    0\n",
       "dtype: int64"
      ]
     },
     "execution_count": 9,
     "metadata": {},
     "output_type": "execute_result"
    }
   ],
   "source": [
    "data.isnull().sum()"
   ]
  },
  {
   "cell_type": "markdown",
   "metadata": {},
   "source": [
    "Add new features to the dataset"
   ]
  },
  {
   "cell_type": "code",
   "execution_count": 12,
   "id": "31a40c28",
   "metadata": {
    "scrolled": false
   },
   "outputs": [
    {
     "data": {
      "text/html": [
       "<div>\n",
       "<style scoped>\n",
       "    .dataframe tbody tr th:only-of-type {\n",
       "        vertical-align: middle;\n",
       "    }\n",
       "\n",
       "    .dataframe tbody tr th {\n",
       "        vertical-align: top;\n",
       "    }\n",
       "\n",
       "    .dataframe thead th {\n",
       "        text-align: right;\n",
       "    }\n",
       "</style>\n",
       "<table border=\"1\" class=\"dataframe\">\n",
       "  <thead>\n",
       "    <tr style=\"text-align: right;\">\n",
       "      <th></th>\n",
       "      <th>title</th>\n",
       "      <th>text</th>\n",
       "      <th>label</th>\n",
       "      <th>news_appended</th>\n",
       "      <th>news_length</th>\n",
       "    </tr>\n",
       "  </thead>\n",
       "  <tbody>\n",
       "    <tr>\n",
       "      <th>0</th>\n",
       "      <td>LAW ENFORCEMENT ON HIGH ALERT Following Threat...</td>\n",
       "      <td>No comment is expected from Barack Obama Membe...</td>\n",
       "      <td>1</td>\n",
       "      <td>LAW ENFORCEMENT ON HIGH ALERT Following Threat...</td>\n",
       "      <td>4222</td>\n",
       "    </tr>\n",
       "    <tr>\n",
       "      <th>1</th>\n",
       "      <td></td>\n",
       "      <td>Did they post their votes for Hillary already?</td>\n",
       "      <td>1</td>\n",
       "      <td>Did they post their votes for Hillary already?</td>\n",
       "      <td>39</td>\n",
       "    </tr>\n",
       "    <tr>\n",
       "      <th>2</th>\n",
       "      <td>UNBELIEVABLE! OBAMA’S ATTORNEY GENERAL SAYS MO...</td>\n",
       "      <td>Now, most of the demonstrators gathered last ...</td>\n",
       "      <td>1</td>\n",
       "      <td>UNBELIEVABLE! OBAMA’S ATTORNEY GENERAL SAYS MO...</td>\n",
       "      <td>299</td>\n",
       "    </tr>\n",
       "    <tr>\n",
       "      <th>3</th>\n",
       "      <td>Bobby Jindal, raised Hindu, uses story of Chri...</td>\n",
       "      <td>A dozen politically active pastors came here f...</td>\n",
       "      <td>0</td>\n",
       "      <td>Bobby Jindal, raised Hindu, uses story of Chri...</td>\n",
       "      <td>6811</td>\n",
       "    </tr>\n",
       "    <tr>\n",
       "      <th>4</th>\n",
       "      <td>SATAN 2: Russia unvelis an image of its terrif...</td>\n",
       "      <td>The RS-28 Sarmat missile, dubbed Satan 2, will...</td>\n",
       "      <td>1</td>\n",
       "      <td>SATAN 2: Russia unvelis an image of its terrif...</td>\n",
       "      <td>1668</td>\n",
       "    </tr>\n",
       "    <tr>\n",
       "      <th>...</th>\n",
       "      <td>...</td>\n",
       "      <td>...</td>\n",
       "      <td>...</td>\n",
       "      <td>...</td>\n",
       "      <td>...</td>\n",
       "    </tr>\n",
       "    <tr>\n",
       "      <th>72129</th>\n",
       "      <td>Russians steal research on Trump in hack of U....</td>\n",
       "      <td>WASHINGTON (Reuters) - Hackers believed to be ...</td>\n",
       "      <td>0</td>\n",
       "      <td>Russians steal research on Trump in hack of U....</td>\n",
       "      <td>4098</td>\n",
       "    </tr>\n",
       "    <tr>\n",
       "      <th>72130</th>\n",
       "      <td>WATCH: Giuliani Demands That Democrats Apolog...</td>\n",
       "      <td>You know, because in fantasyland Republicans n...</td>\n",
       "      <td>1</td>\n",
       "      <td>WATCH: Giuliani Demands That Democrats Apolog...</td>\n",
       "      <td>3092</td>\n",
       "    </tr>\n",
       "    <tr>\n",
       "      <th>72131</th>\n",
       "      <td>Migrants Refuse To Leave Train At Refugee Camp...</td>\n",
       "      <td>Migrants Refuse To Leave Train At Refugee Camp...</td>\n",
       "      <td>0</td>\n",
       "      <td>Migrants Refuse To Leave Train At Refugee Camp...</td>\n",
       "      <td>2447</td>\n",
       "    </tr>\n",
       "    <tr>\n",
       "      <th>72132</th>\n",
       "      <td>Trump tussle gives unpopular Mexican leader mu...</td>\n",
       "      <td>MEXICO CITY (Reuters) - Donald Trump’s combati...</td>\n",
       "      <td>0</td>\n",
       "      <td>Trump tussle gives unpopular Mexican leader mu...</td>\n",
       "      <td>2868</td>\n",
       "    </tr>\n",
       "    <tr>\n",
       "      <th>72133</th>\n",
       "      <td>Goldman Sachs Endorses Hillary Clinton For Pre...</td>\n",
       "      <td>Goldman Sachs Endorses Hillary Clinton For Pre...</td>\n",
       "      <td>1</td>\n",
       "      <td>Goldman Sachs Endorses Hillary Clinton For Pre...</td>\n",
       "      <td>2311</td>\n",
       "    </tr>\n",
       "  </tbody>\n",
       "</table>\n",
       "<p>72134 rows × 5 columns</p>\n",
       "</div>"
      ],
      "text/plain": [
       "                                                   title  \\\n",
       "0      LAW ENFORCEMENT ON HIGH ALERT Following Threat...   \n",
       "1                                                          \n",
       "2      UNBELIEVABLE! OBAMA’S ATTORNEY GENERAL SAYS MO...   \n",
       "3      Bobby Jindal, raised Hindu, uses story of Chri...   \n",
       "4      SATAN 2: Russia unvelis an image of its terrif...   \n",
       "...                                                  ...   \n",
       "72129  Russians steal research on Trump in hack of U....   \n",
       "72130   WATCH: Giuliani Demands That Democrats Apolog...   \n",
       "72131  Migrants Refuse To Leave Train At Refugee Camp...   \n",
       "72132  Trump tussle gives unpopular Mexican leader mu...   \n",
       "72133  Goldman Sachs Endorses Hillary Clinton For Pre...   \n",
       "\n",
       "                                                    text  label  \\\n",
       "0      No comment is expected from Barack Obama Membe...      1   \n",
       "1         Did they post their votes for Hillary already?      1   \n",
       "2       Now, most of the demonstrators gathered last ...      1   \n",
       "3      A dozen politically active pastors came here f...      0   \n",
       "4      The RS-28 Sarmat missile, dubbed Satan 2, will...      1   \n",
       "...                                                  ...    ...   \n",
       "72129  WASHINGTON (Reuters) - Hackers believed to be ...      0   \n",
       "72130  You know, because in fantasyland Republicans n...      1   \n",
       "72131  Migrants Refuse To Leave Train At Refugee Camp...      0   \n",
       "72132  MEXICO CITY (Reuters) - Donald Trump’s combati...      0   \n",
       "72133  Goldman Sachs Endorses Hillary Clinton For Pre...      1   \n",
       "\n",
       "                                           news_appended  news_length  \n",
       "0      LAW ENFORCEMENT ON HIGH ALERT Following Threat...         4222  \n",
       "1         Did they post their votes for Hillary already?           39  \n",
       "2      UNBELIEVABLE! OBAMA’S ATTORNEY GENERAL SAYS MO...          299  \n",
       "3      Bobby Jindal, raised Hindu, uses story of Chri...         6811  \n",
       "4      SATAN 2: Russia unvelis an image of its terrif...         1668  \n",
       "...                                                  ...          ...  \n",
       "72129  Russians steal research on Trump in hack of U....         4098  \n",
       "72130   WATCH: Giuliani Demands That Democrats Apolog...         3092  \n",
       "72131  Migrants Refuse To Leave Train At Refugee Camp...         2447  \n",
       "72132  Trump tussle gives unpopular Mexican leader mu...         2868  \n",
       "72133  Goldman Sachs Endorses Hillary Clinton For Pre...         2311  \n",
       "\n",
       "[72134 rows x 5 columns]"
      ]
     },
     "execution_count": 12,
     "metadata": {},
     "output_type": "execute_result"
    }
   ],
   "source": [
    "data[\"news_appended\"] = data[\"title\"] + data[\"text\"]\n",
    "data[\"news_length\"] = data[\"news_appended\"].apply(lambda x: len(x) - x.count(\" \"))\n",
    "data"
   ]
  },
  {
   "cell_type": "markdown",
   "metadata": {},
   "source": [
    "Visualize the distribution of news article lengths"
   ]
  },
  {
   "cell_type": "code",
   "execution_count": 13,
   "id": "c37b177a",
   "metadata": {},
   "outputs": [
    {
     "data": {
      "image/png": "[encoded data removed]",
      "text/plain": [
       "<Figure size 640x480 with 1 Axes>"
      ]
     },
     "metadata": {},
     "output_type": "display_data"
    }
   ],
   "source": [
    "bins = np.linspace(0, 200, 40)\n",
    "\n",
    "plt.hist(data[data[\"label\"]== 1][\"news_length\"], bins, alpha=1, label=\"Fake\", color=\"#a83232\")\n",
    "plt.hist(data[data[\"label\"]== 0][\"news_length\"], bins, alpha=1, label=\"Real\", color=\"#04ff00\")\n",
    "plt.legend(loc=\"upper right\")\n",
    "plt.show()"
   ]
  },
  {
   "cell_type": "code",
   "execution_count": 14,
   "id": "c74d9602",
   "metadata": {},
   "outputs": [
    {
     "data": {
      "text/plain": [
       "Text(0.5, 1.0, 'Distribution of Articles')"
      ]
     },
     "execution_count": 14,
     "metadata": {},
     "output_type": "execute_result"
    },
    {
     "data": {
      "image/png": "[encoded data removed]",
      "text/plain": [
       "<Figure size 640x480 with 1 Axes>"
      ]
     },
     "metadata": {},
     "output_type": "display_data"
    }
   ],
   "source": [
    "class_names = ['fake', 'real'] \n",
    "label_count = data.label.value_counts()\n",
    "sns.barplot(x=label_count.index, y=label_count)\n",
    "plt.title('Distribution of Articles',fontsize =14)"
   ]
  },
  {
   "cell_type": "markdown",
   "metadata": {},
   "source": [
    "Apply undersampling on the dataset"
   ]
  },
  {
   "cell_type": "code",
   "execution_count": 15,
   "id": "93036a5e",
   "metadata": {
    "scrolled": true
   },
   "outputs": [
    {
     "name": "stdout",
     "output_type": "stream",
     "text": [
      "Class distribution after undersampling:\n",
      "Class 0: 35028\n",
      "Class 1: 35028\n"
     ]
    }
   ],
   "source": [
    "X = data[data.columns[:-1]].values\n",
    "y = data['label'].values\n",
    "rus = RandomUnderSampler(random_state=0)\n",
    "\n",
    "X_resampled, y_resampled = rus.fit_resample(X, y)\n",
    "\n",
    "# Create a new DataFrame with the undersampled data\n",
    "undersampled_data = pd.DataFrame(X_resampled, columns=data.columns[:-1])\n",
    "undersampled_data['label'] = y_resampled\n",
    "\n",
    "# Update the original data with the undersampled data\n",
    "data = undersampled_data\n",
    "\n",
    "# Print the class distribution after undersampling\n",
    "unique_classes, class_counts = np.unique(data['label'], return_counts=True)\n",
    "print(\"Class distribution after undersampling:\")\n",
    "for cls, count in zip(unique_classes, class_counts):\n",
    "    print(\"Class {}: {}\".format(cls, count))"
   ]
  },
  {
   "cell_type": "markdown",
   "id": "d3ad6677",
   "metadata": {},
   "source": [
    "### Cleaning of Text"
   ]
  },
  {
   "cell_type": "code",
   "execution_count": 16,
   "id": "d8f40bf7",
   "metadata": {
    "scrolled": true
   },
   "outputs": [
    {
     "data": {
      "text/plain": [
       "title            70056\n",
       "text             70056\n",
       "label            70056\n",
       "news_appended    70056\n",
       "dtype: int64"
      ]
     },
     "execution_count": 16,
     "metadata": {},
     "output_type": "execute_result"
    }
   ],
   "source": [
    "data.count()"
   ]
  },
  {
   "cell_type": "code",
   "execution_count": 17,
   "id": "afa411d4",
   "metadata": {},
   "outputs": [],
   "source": [
    "# Preprocess the text data\n",
    "def preprocess_text(text):\n",
    "    # Lowercase the text\n",
    "    text = text.lower()\n",
    "    \n",
    "    # Tokenize the text\n",
    "    tokens = word_tokenize(text)\n",
    "    \n",
    "    # Remove stop words\n",
    "    stopwords_list = set(stopwords.words('english'))\n",
    "    filtered_tokens = [token for token in tokens if token not in stopwords_list]\n",
    "    \n",
    "    # Lemmatize the tokens\n",
    "    lemmatizer = WordNetLemmatizer()\n",
    "    lemmatized_tokens = [lemmatizer.lemmatize(token) for token in filtered_tokens]\n",
    "    \n",
    "    # Join the tokens back into a string\n",
    "    preprocessed_text = ' '.join(lemmatized_tokens)\n",
    "    return preprocessed_text"
   ]
  },
  {
   "cell_type": "code",
   "execution_count": 18,
   "id": "215a6107",
   "metadata": {},
   "outputs": [],
   "source": [
    "data['news_appended'] = data['news_appended'].apply(preprocess_text)"
   ]
  },
  {
   "cell_type": "code",
   "execution_count": 19,
   "id": "feef05db",
   "metadata": {},
   "outputs": [],
   "source": [
    "#Tokenize preprocessed data\n",
    "tokenized_text = data['news_appended'].apply(word_tokenize)\n",
    "\n",
    "#Word Embedding\n",
    "model = Word2Vec(tokenized_text, vector_size=100, window=5, min_count=1, workers=4)\n",
    "embedded_text = []\n",
    "for tokens in tokenized_text:\n",
    "    embedded_tokens = []\n",
    "    for token in tokens:\n",
    "        try:\n",
    "            embedding = model.wv.get_vector(token)\n",
    "            embedded_tokens.append(embedding)\n",
    "        except KeyError:\n",
    "            pass\n",
    "    embedded_text.append(np.mean(embedded_tokens, axis=0))\n"
   ]
  },
  {
   "cell_type": "code",
   "execution_count": 20,
   "id": "69c4b50e",
   "metadata": {},
   "outputs": [],
   "source": [
    "from sklearn.model_selection import train_test_split\n",
    "from sklearn.preprocessing import StandardScale\n",
    "\n",
    "#split transformed data into training and testing\n",
    "X_train, X_test, y_train, y_test = train_test_split(embedded_text, data['label'], test_size=0.2, random_state=42)"
   ]
  },
  {
   "cell_type": "markdown",
   "metadata": {},
   "source": [
    "Scale the data"
   ]
  },
  {
   "cell_type": "code",
   "execution_count": null,
   "metadata": {},
   "outputs": [],
   "source": [
    "#scaler = StandardScaler()\n",
    "#X_train_scaled = scaler.fit_transform(X_train)\n",
    "#X_test_scaled = scaler.transform(X_test)"
   ]
  },
  {
   "cell_type": "markdown",
   "id": "9a68a450",
   "metadata": {},
   "source": [
    "# Model Training and Testing"
   ]
  },
  {
   "cell_type": "markdown",
   "metadata": {},
   "source": [
    "### Decision Tree Classifier"
   ]
  },
  {
   "cell_type": "code",
   "execution_count": 23,
   "id": "edc92ce0",
   "metadata": {
    "scrolled": true
   },
   "outputs": [
    {
     "name": "stdout",
     "output_type": "stream",
     "text": [
      "Decision Tree:\n",
      "Accuracy: 0.8649015129888666\n",
      "Precision: 0.8548498685484986\n",
      "Recall: 0.8798063229849046\n",
      "F1 Score: 0.8671485718296021\n",
      "ROC AUC Score: 0.8648673961133392\n"
     ]
    },
    {
     "data": {
      "image/png": "[encoded data removed]",
      "text/plain": [
       "<Figure size 640x480 with 1 Axes>"
      ]
     },
     "metadata": {},
     "output_type": "display_data"
    }
   ],
   "source": [
    "# Train the Decision Tree classifier\n",
    "dtc = DecisionTreeClassifier(criterion=\"entropy\", max_depth=None, min_samples_split=2, \n",
    "                                  min_samples_leaf=1, min_weight_fraction_leaf=0.0, \n",
    "                                  max_features=None, random_state=32)\n",
    "dtc.fit(X_train, y_train)\n",
    "y_pred_dtc = dtc.predict(X_test)\n",
    "\n",
    "# Evaluate the model\n",
    "print(\"Decision Tree:\")\n",
    "print(\"Accuracy:\", accuracy_score(y_test, y_pred_dtc))\n",
    "print(\"Precision:\", precision_score(y_test, y_pred_dtc))\n",
    "print(\"Recall:\", recall_score(y_test, y_pred_dtc))\n",
    "print(\"F1 Score:\", f1_score(y_test, y_pred_dtc))\n",
    "print(\"ROC AUC Score:\", roc_auc_score(y_test, y_pred_dtc))\n",
    "fpr, tpr, _ = roc_curve(y_test, y_pred_dtc)\n",
    "plt.plot(fpr, tpr)\n",
    "plt.title(\"ROC Curve\")\n",
    "plt.xlabel(\"False Positive Rate\")\n",
    "plt.ylabel(\"True Positive Rate\")\n",
    "plt.show()"
   ]
  },
  {
   "cell_type": "markdown",
   "metadata": {},
   "source": [
    "### Support Vector Machine Classifier"
   ]
  },
  {
   "cell_type": "code",
   "execution_count": 24,
   "id": "94b65342",
   "metadata": {},
   "outputs": [],
   "source": [
    "svm = SVC(kernel='linear', C=1, gamma='scale')"
   ]
  },
  {
   "cell_type": "code",
   "execution_count": 25,
   "id": "4f8b9380",
   "metadata": {},
   "outputs": [
    {
     "data": {
      "text/plain": [
       "SVC(C=1, kernel='linear')"
      ]
     },
     "execution_count": 25,
     "metadata": {},
     "output_type": "execute_result"
    }
   ],
   "source": [
    "svm.fit(X_train, y_train)"
   ]
  },
  {
   "cell_type": "code",
   "execution_count": 26,
   "id": "cf5f28f5",
   "metadata": {},
   "outputs": [
    {
     "name": "stdout",
     "output_type": "stream",
     "text": [
      "Decision Tree:\n",
      "Accuracy: 0.9108621181844133\n",
      "Precision: 0.9108896797153024\n",
      "Recall: 0.9112788379379094\n",
      "F1 Score: 0.9110842172705915\n",
      "ROC AUC Score: 0.9108611643194555\n"
     ]
    },
    {
     "data": {
      "image/png": "[encoded data removed]",
      "text/plain": [
       "<Figure size 640x480 with 1 Axes>"
      ]
     },
     "metadata": {},
     "output_type": "display_data"
    }
   ],
   "source": [
    "svm_preds = svm.predict(X_test)\n",
    "\n",
    "# Evaluate the model\n",
    "print(\"Decision Tree:\")\n",
    "print(\"Accuracy:\", accuracy_score(y_test, svm_preds))\n",
    "print(\"Precision:\", precision_score(y_test, svm_preds))\n",
    "print(\"Recall:\", recall_score(y_test, svm_preds))\n",
    "print(\"F1 Score:\", f1_score(y_test, svm_preds))\n",
    "print(\"ROC AUC Score:\", roc_auc_score(y_test, svm_preds))\n",
    "fpr, tpr, _ = roc_curve(y_test, svm_preds)\n",
    "plt.plot(fpr, tpr)\n",
    "plt.title(\"ROC Curve\")\n",
    "plt.xlabel(\"False Positive Rate\")\n",
    "plt.ylabel(\"True Positive Rate\")\n",
    "plt.show()"
   ]
  },
  {
   "cell_type": "markdown",
   "metadata": {},
   "source": [
    "### Naive Bayes Classifier"
   ]
  },
  {
   "cell_type": "code",
   "execution_count": 27,
   "id": "d60a31d1",
   "metadata": {},
   "outputs": [
    {
     "name": "stdout",
     "output_type": "stream",
     "text": [
      "Decision Tree:\n",
      "Accuracy: 0.7869683128746788\n",
      "Precision: 0.7902228612508987\n",
      "Recall: 0.7826829962973512\n",
      "F1 Score: 0.7864348572655077\n",
      "ROC AUC Score: 0.7869781218968872\n"
     ]
    },
    {
     "data": {
      "image/png": "[encoded data removed]",
      "text/plain": [
       "<Figure size 640x480 with 1 Axes>"
      ]
     },
     "metadata": {},
     "output_type": "display_data"
    }
   ],
   "source": [
    "gnb = GaussianNB()\n",
    "gnb.fit(X_train, y_train)\n",
    "y_pred_mnb = gnb.predict(X_test)\n",
    "\n",
    "\n",
    "#Evaluate Model\n",
    "print(\"Decision Tree:\")\n",
    "print(\"Accuracy:\", accuracy_score(y_test, y_pred_mnb))\n",
    "print(\"Precision:\", precision_score(y_test, y_pred_mnb))\n",
    "print(\"Recall:\", recall_score(y_test, y_pred_mnb))\n",
    "print(\"F1 Score:\", f1_score(y_test, y_pred_mnb))\n",
    "print(\"ROC AUC Score:\", roc_auc_score(y_test,y_pred_mnb))\n",
    "fpr, tpr, _ = roc_curve(y_test, y_pred_mnb)\n",
    "plt.plot(fpr, tpr)\n",
    "plt.title(\"ROC Curve\")\n",
    "plt.xlabel(\"False Positive Rate\")\n",
    "plt.ylabel(\"True Positive Rate\")\n",
    "plt.show()"
   ]
  }
 ],
 "metadata": {
  "kernelspec": {
   "display_name": "Python 3 (ipykernel)",
   "language": "python",
   "name": "python3"
  },
  "language_info": {
   "codemirror_mode": {
    "name": "ipython",
    "version": 3
   },
   "file_extension": ".py",
   "mimetype": "text/x-python",
   "name": "python",
   "nbconvert_exporter": "python",
   "pygments_lexer": "ipython3",
   "version": "3.9.13"
  }
 },
 "nbformat": 4,
 "nbformat_minor": 5
}
