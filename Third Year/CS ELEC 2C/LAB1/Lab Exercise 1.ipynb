{
 "cells": [
  {
   "cell_type": "markdown",
   "id": "d45e338c-a989-435a-8022-a72067139ecd",
   "metadata": {},
   "source": [
    "Hi class! Sorry if we weren't able to do the session for this synchronously due to the General Education Exams. This notebook will walk you through the laboratory exercise. "
   ]
  },
  {
   "cell_type": "markdown",
   "id": "17ae2e5e-2751-45af-9cc3-b277f39ab964",
   "metadata": {},
   "source": [
    "Familiarize yourself with using Jupyter Notebooks for now. You guys are CS students, I'm pretty sure you'll easily grasp it. "
   ]
  },
  {
   "cell_type": "markdown",
   "id": "548c3735-544b-4cdc-8d4e-cd863e8b53b3",
   "metadata": {},
   "source": [
    "# Your Task"
   ]
  },
  {
   "cell_type": "markdown",
   "id": "aa43114a-7da9-4467-898c-b5194a7b032a",
   "metadata": {},
   "source": [
    "Your lab exercise is to explore the different aspects of the Machine Learning Workflow and try to improve the performance of the model. You can adjust the following things in the entire workflow to improve performance:\n",
    "- Add new features by computing ratios, correlations, etc. (feature engineering)\n",
    "- Changing scaling technique (See MinMaxScaler in Scikit-Learn, etc.)\n",
    "- Add Regularization (See Lasso Regression and Ridge Redgression in Scikit-Learn) \n",
    "- Other things you may think of\n",
    "\n",
    "Afterwards, the expectation is to have a documentation that summarizes all your insights and experiments. Sample documentation can be seen in Blackboard. Once you complete your Lab Exercise, please submit it to Blackboard containing the documentation and the Jupyter Notebook.\n",
    "\n",
    "Thank you!"
   ]
  },
  {
   "cell_type": "markdown",
   "id": "b6917da5-4ecc-474f-bffb-f73fe9ced048",
   "metadata": {},
   "source": [
    "# Working Codebase"
   ]
  },
  {
   "cell_type": "markdown",
   "id": "470735a0-d77b-4f1b-a799-0b1242c9e772",
   "metadata": {},
   "source": [
    "For now, we'll install the necessary dependencies \n",
    "\n",
    "- **Numpy** is a numerical Python package that's often used for optimized numerical computations. It's very useful for intensive numerical computations on vectors, matrices, etc.\n",
    "- **Pandas** is a data manipulation package in Python that loads data as a table akin to a SQL table and you can do numerous SQL-like operations on it such as aggregations, group by, etc.\n",
    "- **Seaborn** is a Python visualization package\n",
    "- **Matplotlib** is a Python visualization package\n",
    "- **Scikit-learn** is the machine learning package in Python. It houses numerous functionalities aside from the algorithms that can be used for machine learning. It also contains preprocessing functions, evaluation metrics, etc."
   ]
  },
  {
   "cell_type": "code",
   "execution_count": null,
   "id": "22c1a910-4c93-49d0-8667-bf0aeee1f5cd",
   "metadata": {
    "scrolled": true,
    "tags": []
   },
   "outputs": [],
   "source": [
    "%pip install pandas\n",
    "%pip install numpy\n",
    "%pip install seaborn\n",
    "%pip install matplotlib\n",
    "%pip install scikit-learn"
   ]
  },
  {
   "cell_type": "code",
   "execution_count": 1,
   "id": "5edd28f0-8a18-4c73-8bf2-6c8ad0d80f04",
   "metadata": {},
   "outputs": [],
   "source": [
    "### Importing all of pandas and numpy functionalities\n",
    "import pandas as pd \n",
    "import numpy as np \n",
    "\n",
    "### Retrieving specifically the percentile function in numpy\n",
    "from numpy import percentile\n",
    "\n",
    "### Importing all of seaborn functionalities\n",
    "import seaborn as sns\n",
    "\n",
    "### Importing plotting capabilities of matplotlib\n",
    "import matplotlib.pyplot as plt\n",
    "\n",
    "### Importing preprocessing functionalities of scikit-learn\n",
    "from sklearn.preprocessing import LabelEncoder, StandardScaler, MinMaxScaler\n",
    "from sklearn.model_selection import train_test_split\n",
    "\n",
    "### Importing Linear Regression\n",
    "from sklearn.linear_model import LinearRegression\n",
    "\n",
    "### Importing evaluation metrics from scikit-learn\n",
    "from sklearn import metrics"
   ]
  },
  {
   "cell_type": "markdown",
   "id": "a58abed2-7681-4e9b-a033-5f67a9eb37c9",
   "metadata": {},
   "source": [
    "## Reading the Data\n",
    "For reading the data, we use the `read_csv` function of pandas to read the Pandas Data Frame from a CSV File"
   ]
  },
  {
   "cell_type": "code",
   "execution_count": 642,
   "id": "08d97559-22f6-42da-8f0e-05bb58e73d63",
   "metadata": {},
   "outputs": [
    {
     "name": "stdout",
     "output_type": "stream",
     "text": [
      "<class 'pandas.core.frame.DataFrame'>\n",
      "RangeIndex: 1338 entries, 0 to 1337\n",
      "Data columns (total 7 columns):\n",
      " #   Column    Non-Null Count  Dtype  \n",
      "---  ------    --------------  -----  \n",
      " 0   age       1338 non-null   int64  \n",
      " 1   sex       1338 non-null   object \n",
      " 2   bmi       1338 non-null   float64\n",
      " 3   children  1338 non-null   int64  \n",
      " 4   smoker    1338 non-null   object \n",
      " 5   region    1338 non-null   object \n",
      " 6   charges   1338 non-null   float64\n",
      "dtypes: float64(2), int64(2), object(3)\n",
      "memory usage: 73.3+ KB\n"
     ]
    }
   ],
   "source": [
    "df = pd.read_csv('insurance.csv')\n",
    "df.info()"
   ]
  },
  {
   "cell_type": "markdown",
   "id": "7340484d-0f4a-4087-a221-8a162751c835",
   "metadata": {},
   "source": [
    "## Exploratory Data Analysis\n",
    "We'll try to inspect the data and look at its properties "
   ]
  },
  {
   "cell_type": "markdown",
   "id": "3274e189-2467-4da5-a34a-a02c16b25935",
   "metadata": {},
   "source": [
    "We're looking into the distributions of the data that we have right now. This gives us an idea if the variables or features that we have are good to use for our model"
   ]
  },
  {
   "cell_type": "code",
   "execution_count": 643,
   "id": "db9e1f0a-3b4b-4327-afc9-25638f7da516",
   "metadata": {
    "tags": []
   },
   "outputs": [],
   "source": [
    "for i in df.columns : \n",
    "  if ( (df[i].dtypes == 'int64') | (df[i].dtypes == 'float64') ):\n",
    "    sns.distplot(df[i])\n",
    "    plt.title(i)\n",
    "    plt.show()"
   ]
  },
  {
   "cell_type": "markdown",
   "id": "a45e6016-1553-4fc7-9721-e0708a819bfc",
   "metadata": {},
   "source": [
    "Inspecting some summary statistics to see the consistency, averages, and ranges of the values that the data has"
   ]
  },
  {
   "cell_type": "code",
   "execution_count": 644,
   "id": "7bed8fe5-1107-45b2-854d-b576b8506a70",
   "metadata": {},
   "outputs": [
    {
     "data": {
      "text/html": [
       "<div>\n",
       "<style scoped>\n",
       "    .dataframe tbody tr th:only-of-type {\n",
       "        vertical-align: middle;\n",
       "    }\n",
       "\n",
       "    .dataframe tbody tr th {\n",
       "        vertical-align: top;\n",
       "    }\n",
       "\n",
       "    .dataframe thead th {\n",
       "        text-align: right;\n",
       "    }\n",
       "</style>\n",
       "<table border=\"1\" class=\"dataframe\">\n",
       "  <thead>\n",
       "    <tr style=\"text-align: right;\">\n",
       "      <th></th>\n",
       "      <th>age</th>\n",
       "      <th>bmi</th>\n",
       "      <th>children</th>\n",
       "      <th>charges</th>\n",
       "    </tr>\n",
       "  </thead>\n",
       "  <tbody>\n",
       "    <tr>\n",
       "      <th>count</th>\n",
       "      <td>1338.000000</td>\n",
       "      <td>1338.000000</td>\n",
       "      <td>1338.000000</td>\n",
       "      <td>1338.000000</td>\n",
       "    </tr>\n",
       "    <tr>\n",
       "      <th>mean</th>\n",
       "      <td>39.207025</td>\n",
       "      <td>30.663397</td>\n",
       "      <td>1.094918</td>\n",
       "      <td>13270.422265</td>\n",
       "    </tr>\n",
       "    <tr>\n",
       "      <th>std</th>\n",
       "      <td>14.049960</td>\n",
       "      <td>6.098187</td>\n",
       "      <td>1.205493</td>\n",
       "      <td>12110.011237</td>\n",
       "    </tr>\n",
       "    <tr>\n",
       "      <th>min</th>\n",
       "      <td>18.000000</td>\n",
       "      <td>15.960000</td>\n",
       "      <td>0.000000</td>\n",
       "      <td>1121.873900</td>\n",
       "    </tr>\n",
       "    <tr>\n",
       "      <th>25%</th>\n",
       "      <td>27.000000</td>\n",
       "      <td>26.296250</td>\n",
       "      <td>0.000000</td>\n",
       "      <td>4740.287150</td>\n",
       "    </tr>\n",
       "    <tr>\n",
       "      <th>50%</th>\n",
       "      <td>39.000000</td>\n",
       "      <td>30.400000</td>\n",
       "      <td>1.000000</td>\n",
       "      <td>9382.033000</td>\n",
       "    </tr>\n",
       "    <tr>\n",
       "      <th>75%</th>\n",
       "      <td>51.000000</td>\n",
       "      <td>34.693750</td>\n",
       "      <td>2.000000</td>\n",
       "      <td>16639.912515</td>\n",
       "    </tr>\n",
       "    <tr>\n",
       "      <th>max</th>\n",
       "      <td>64.000000</td>\n",
       "      <td>53.130000</td>\n",
       "      <td>5.000000</td>\n",
       "      <td>63770.428010</td>\n",
       "    </tr>\n",
       "  </tbody>\n",
       "</table>\n",
       "</div>"
      ],
      "text/plain": [
       "               age          bmi     children       charges\n",
       "count  1338.000000  1338.000000  1338.000000   1338.000000\n",
       "mean     39.207025    30.663397     1.094918  13270.422265\n",
       "std      14.049960     6.098187     1.205493  12110.011237\n",
       "min      18.000000    15.960000     0.000000   1121.873900\n",
       "25%      27.000000    26.296250     0.000000   4740.287150\n",
       "50%      39.000000    30.400000     1.000000   9382.033000\n",
       "75%      51.000000    34.693750     2.000000  16639.912515\n",
       "max      64.000000    53.130000     5.000000  63770.428010"
      ]
     },
     "execution_count": 644,
     "metadata": {},
     "output_type": "execute_result"
    }
   ],
   "source": [
    "df.describe()"
   ]
  },
  {
   "cell_type": "markdown",
   "id": "d03d78b2-97b7-43f0-89ad-925d8592e780",
   "metadata": {},
   "source": [
    "Looking into how many different values are there for categorical features"
   ]
  },
  {
   "cell_type": "code",
   "execution_count": 645,
   "id": "1f8e76af-bfcc-4849-97c1-55e87b3aefea",
   "metadata": {},
   "outputs": [
    {
     "name": "stdout",
     "output_type": "stream",
     "text": [
      "sex\n",
      "2\n",
      "smoker\n",
      "2\n",
      "region\n",
      "4\n"
     ]
    }
   ],
   "source": [
    "for i in df.columns:\n",
    "  if df[i].dtypes == 'object':\n",
    "    print(i)\n",
    "    print(df[i].nunique())"
   ]
  },
  {
   "cell_type": "markdown",
   "id": "1f659e5c-97c5-49b6-9eec-67f92bd3c14c",
   "metadata": {},
   "source": [
    "Checking for nulls in the data"
   ]
  },
  {
   "cell_type": "code",
   "execution_count": 646,
   "id": "d6c3c3bf-3618-40e1-8c33-e73b9f343f3b",
   "metadata": {},
   "outputs": [
    {
     "data": {
      "text/plain": [
       "0"
      ]
     },
     "execution_count": 646,
     "metadata": {},
     "output_type": "execute_result"
    }
   ],
   "source": [
    "df.isnull().sum().sum()"
   ]
  },
  {
   "cell_type": "markdown",
   "id": "21f717bb-610e-4560-8868-b9519286d770",
   "metadata": {},
   "source": [
    "Looking at the boxplot to see the ranges of the data and observe outliers"
   ]
  },
  {
   "cell_type": "code",
   "execution_count": 647,
   "id": "0700b0db-3ba6-4621-945c-d3901db70c31",
   "metadata": {},
   "outputs": [],
   "source": [
    "for i in df.columns : \n",
    "  if (df[i].dtypes != 'object'):\n",
    "    plt.title(i)\n",
    "    sns.boxplot(df[i])\n",
    "    plt.show()"
   ]
  },
  {
   "cell_type": "markdown",
   "id": "4721d55b-11a5-4452-a5a5-91f2da01861a",
   "metadata": {},
   "source": [
    "## Preprocessing\n",
    "This section deals with doing any necessary steps for preprocessing such as splitting the data, transforming the values, removing outliers, removing nulls, etc."
   ]
  },
  {
   "cell_type": "markdown",
   "id": "d67c1c69-762b-4ba3-9012-c89e7152b442",
   "metadata": {},
   "source": [
    "In this specific code block, we'll be removing the outliers we've seen in the Exploratory Data Analysis part, specifically the outlier charges"
   ]
  },
  {
   "cell_type": "code",
   "execution_count": 649,
   "id": "084b23c2",
   "metadata": {},
   "outputs": [],
   "source": [
    "# calculate interquartile range\n",
    "q25 = percentile(df['charges'], 25) \n",
    "q75 = percentile(df['charges'], 75)\n",
    "iqr = q75 - q25\n",
    "cutoff = 1.5 * iqr\n",
    "lower = q25 - cutoff\n",
    "upper = q75 + cutoff\n",
    "median = np.median(df['charges'])\n",
    "df['charges'] = np.where(df['charges'] > upper, median, df['charges'])\n",
    "X = df.drop('charges', axis=1)\n",
    "X = X.drop('children', axis=1)\n",
    "y = df['charges']"
   ]
  },
  {
   "cell_type": "code",
   "execution_count": 650,
   "id": "df7a4281",
   "metadata": {},
   "outputs": [
    {
     "data": {
      "text/html": [
       "<div>\n",
       "<style scoped>\n",
       "    .dataframe tbody tr th:only-of-type {\n",
       "        vertical-align: middle;\n",
       "    }\n",
       "\n",
       "    .dataframe tbody tr th {\n",
       "        vertical-align: top;\n",
       "    }\n",
       "\n",
       "    .dataframe thead th {\n",
       "        text-align: right;\n",
       "    }\n",
       "</style>\n",
       "<table border=\"1\" class=\"dataframe\">\n",
       "  <thead>\n",
       "    <tr style=\"text-align: right;\">\n",
       "      <th></th>\n",
       "      <th>age</th>\n",
       "      <th>sex</th>\n",
       "      <th>bmi</th>\n",
       "      <th>smoker</th>\n",
       "      <th>region</th>\n",
       "    </tr>\n",
       "  </thead>\n",
       "  <tbody>\n",
       "    <tr>\n",
       "      <th>0</th>\n",
       "      <td>19</td>\n",
       "      <td>female</td>\n",
       "      <td>27.900</td>\n",
       "      <td>yes</td>\n",
       "      <td>southwest</td>\n",
       "    </tr>\n",
       "    <tr>\n",
       "      <th>1</th>\n",
       "      <td>18</td>\n",
       "      <td>male</td>\n",
       "      <td>33.770</td>\n",
       "      <td>no</td>\n",
       "      <td>southeast</td>\n",
       "    </tr>\n",
       "    <tr>\n",
       "      <th>2</th>\n",
       "      <td>28</td>\n",
       "      <td>male</td>\n",
       "      <td>33.000</td>\n",
       "      <td>no</td>\n",
       "      <td>southeast</td>\n",
       "    </tr>\n",
       "    <tr>\n",
       "      <th>3</th>\n",
       "      <td>33</td>\n",
       "      <td>male</td>\n",
       "      <td>22.705</td>\n",
       "      <td>no</td>\n",
       "      <td>northwest</td>\n",
       "    </tr>\n",
       "    <tr>\n",
       "      <th>4</th>\n",
       "      <td>32</td>\n",
       "      <td>male</td>\n",
       "      <td>28.880</td>\n",
       "      <td>no</td>\n",
       "      <td>northwest</td>\n",
       "    </tr>\n",
       "    <tr>\n",
       "      <th>...</th>\n",
       "      <td>...</td>\n",
       "      <td>...</td>\n",
       "      <td>...</td>\n",
       "      <td>...</td>\n",
       "      <td>...</td>\n",
       "    </tr>\n",
       "    <tr>\n",
       "      <th>1333</th>\n",
       "      <td>50</td>\n",
       "      <td>male</td>\n",
       "      <td>30.970</td>\n",
       "      <td>no</td>\n",
       "      <td>northwest</td>\n",
       "    </tr>\n",
       "    <tr>\n",
       "      <th>1334</th>\n",
       "      <td>18</td>\n",
       "      <td>female</td>\n",
       "      <td>31.920</td>\n",
       "      <td>no</td>\n",
       "      <td>northeast</td>\n",
       "    </tr>\n",
       "    <tr>\n",
       "      <th>1335</th>\n",
       "      <td>18</td>\n",
       "      <td>female</td>\n",
       "      <td>36.850</td>\n",
       "      <td>no</td>\n",
       "      <td>southeast</td>\n",
       "    </tr>\n",
       "    <tr>\n",
       "      <th>1336</th>\n",
       "      <td>21</td>\n",
       "      <td>female</td>\n",
       "      <td>25.800</td>\n",
       "      <td>no</td>\n",
       "      <td>southwest</td>\n",
       "    </tr>\n",
       "    <tr>\n",
       "      <th>1337</th>\n",
       "      <td>61</td>\n",
       "      <td>female</td>\n",
       "      <td>29.070</td>\n",
       "      <td>yes</td>\n",
       "      <td>northwest</td>\n",
       "    </tr>\n",
       "  </tbody>\n",
       "</table>\n",
       "<p>1338 rows × 5 columns</p>\n",
       "</div>"
      ],
      "text/plain": [
       "      age     sex     bmi smoker     region\n",
       "0      19  female  27.900    yes  southwest\n",
       "1      18    male  33.770     no  southeast\n",
       "2      28    male  33.000     no  southeast\n",
       "3      33    male  22.705     no  northwest\n",
       "4      32    male  28.880     no  northwest\n",
       "...   ...     ...     ...    ...        ...\n",
       "1333   50    male  30.970     no  northwest\n",
       "1334   18  female  31.920     no  northeast\n",
       "1335   18  female  36.850     no  southeast\n",
       "1336   21  female  25.800     no  southwest\n",
       "1337   61  female  29.070    yes  northwest\n",
       "\n",
       "[1338 rows x 5 columns]"
      ]
     },
     "execution_count": 650,
     "metadata": {},
     "output_type": "execute_result"
    }
   ],
   "source": [
    "X"
   ]
  },
  {
   "cell_type": "markdown",
   "id": "da1f2360-a051-4e18-b86d-183354fb538c",
   "metadata": {},
   "source": [
    "Splitting the data using scikit-learn's train-test split function"
   ]
  },
  {
   "cell_type": "code",
   "execution_count": 651,
   "id": "a93ac577-b141-41d9-b0bb-9044aaad81b9",
   "metadata": {},
   "outputs": [],
   "source": [
    "X_train, X_test, y_train, y_test = train_test_split(X, y, test_size = 0.2, random_state = 42)"
   ]
  },
  {
   "cell_type": "markdown",
   "id": "dab0e5a0-572c-427c-a310-7d1485ae095e",
   "metadata": {},
   "source": [
    "Converting the categorical features into numerical values that can be used as inputs to the model"
   ]
  },
  {
   "cell_type": "code",
   "execution_count": 652,
   "id": "dc6d2842-eeed-4a25-9c1b-333fbc8f7869",
   "metadata": {},
   "outputs": [
    {
     "data": {
      "text/html": [
       "<div>\n",
       "<style scoped>\n",
       "    .dataframe tbody tr th:only-of-type {\n",
       "        vertical-align: middle;\n",
       "    }\n",
       "\n",
       "    .dataframe tbody tr th {\n",
       "        vertical-align: top;\n",
       "    }\n",
       "\n",
       "    .dataframe thead th {\n",
       "        text-align: right;\n",
       "    }\n",
       "</style>\n",
       "<table border=\"1\" class=\"dataframe\">\n",
       "  <thead>\n",
       "    <tr style=\"text-align: right;\">\n",
       "      <th></th>\n",
       "      <th>age</th>\n",
       "      <th>sex</th>\n",
       "      <th>bmi</th>\n",
       "      <th>smoker</th>\n",
       "      <th>region</th>\n",
       "    </tr>\n",
       "  </thead>\n",
       "  <tbody>\n",
       "    <tr>\n",
       "      <th>560</th>\n",
       "      <td>46</td>\n",
       "      <td>0</td>\n",
       "      <td>19.950</td>\n",
       "      <td>0</td>\n",
       "      <td>northwest</td>\n",
       "    </tr>\n",
       "    <tr>\n",
       "      <th>1285</th>\n",
       "      <td>47</td>\n",
       "      <td>0</td>\n",
       "      <td>24.320</td>\n",
       "      <td>0</td>\n",
       "      <td>northeast</td>\n",
       "    </tr>\n",
       "    <tr>\n",
       "      <th>1142</th>\n",
       "      <td>52</td>\n",
       "      <td>0</td>\n",
       "      <td>24.860</td>\n",
       "      <td>0</td>\n",
       "      <td>southeast</td>\n",
       "    </tr>\n",
       "    <tr>\n",
       "      <th>969</th>\n",
       "      <td>39</td>\n",
       "      <td>0</td>\n",
       "      <td>34.320</td>\n",
       "      <td>0</td>\n",
       "      <td>southeast</td>\n",
       "    </tr>\n",
       "    <tr>\n",
       "      <th>486</th>\n",
       "      <td>54</td>\n",
       "      <td>0</td>\n",
       "      <td>21.470</td>\n",
       "      <td>0</td>\n",
       "      <td>northwest</td>\n",
       "    </tr>\n",
       "    <tr>\n",
       "      <th>...</th>\n",
       "      <td>...</td>\n",
       "      <td>...</td>\n",
       "      <td>...</td>\n",
       "      <td>...</td>\n",
       "      <td>...</td>\n",
       "    </tr>\n",
       "    <tr>\n",
       "      <th>1095</th>\n",
       "      <td>18</td>\n",
       "      <td>0</td>\n",
       "      <td>31.350</td>\n",
       "      <td>0</td>\n",
       "      <td>northeast</td>\n",
       "    </tr>\n",
       "    <tr>\n",
       "      <th>1130</th>\n",
       "      <td>39</td>\n",
       "      <td>0</td>\n",
       "      <td>23.870</td>\n",
       "      <td>0</td>\n",
       "      <td>southeast</td>\n",
       "    </tr>\n",
       "    <tr>\n",
       "      <th>1294</th>\n",
       "      <td>58</td>\n",
       "      <td>1</td>\n",
       "      <td>25.175</td>\n",
       "      <td>0</td>\n",
       "      <td>northeast</td>\n",
       "    </tr>\n",
       "    <tr>\n",
       "      <th>860</th>\n",
       "      <td>37</td>\n",
       "      <td>0</td>\n",
       "      <td>47.600</td>\n",
       "      <td>1</td>\n",
       "      <td>southwest</td>\n",
       "    </tr>\n",
       "    <tr>\n",
       "      <th>1126</th>\n",
       "      <td>55</td>\n",
       "      <td>1</td>\n",
       "      <td>29.900</td>\n",
       "      <td>0</td>\n",
       "      <td>southwest</td>\n",
       "    </tr>\n",
       "  </tbody>\n",
       "</table>\n",
       "<p>1070 rows × 5 columns</p>\n",
       "</div>"
      ],
      "text/plain": [
       "      age  sex     bmi  smoker     region\n",
       "560    46    0  19.950       0  northwest\n",
       "1285   47    0  24.320       0  northeast\n",
       "1142   52    0  24.860       0  southeast\n",
       "969    39    0  34.320       0  southeast\n",
       "486    54    0  21.470       0  northwest\n",
       "...   ...  ...     ...     ...        ...\n",
       "1095   18    0  31.350       0  northeast\n",
       "1130   39    0  23.870       0  southeast\n",
       "1294   58    1  25.175       0  northeast\n",
       "860    37    0  47.600       1  southwest\n",
       "1126   55    1  29.900       0  southwest\n",
       "\n",
       "[1070 rows x 5 columns]"
      ]
     },
     "execution_count": 652,
     "metadata": {},
     "output_type": "execute_result"
    }
   ],
   "source": [
    "ordinalbiner = ['sex', 'smoker']\n",
    "for i in X_train[ordinalbiner].columns:\n",
    "  label = LabelEncoder()\n",
    "  X_train[i] = label.fit_transform(X_train[i])\n",
    "\n",
    "for i in X_test[ordinalbiner].columns:\n",
    "  label = LabelEncoder()\n",
    "  X_test[i] = label.fit_transform(X_test[i])\n",
    "\n",
    "X_train"
   ]
  },
  {
   "cell_type": "code",
   "execution_count": 653,
   "id": "10d7a798",
   "metadata": {},
   "outputs": [],
   "source": [
    "X_train = pd.get_dummies(X_train)\n",
    "X_test = pd.get_dummies(X_test)"
   ]
  },
  {
   "cell_type": "markdown",
   "id": "80f2ce10-c064-4bc0-a793-dc08016b9b16",
   "metadata": {},
   "source": [
    "Scaling the data to help the model converge and also to keep values closer to one another"
   ]
  },
  {
   "cell_type": "code",
   "execution_count": 654,
   "id": "2156a93c-62a6-45bc-b367-94bc1f0f4b11",
   "metadata": {},
   "outputs": [],
   "source": [
    "#from sklearn.preprocessing import MinMaxScaler\n",
    "mms = MinMaxScaler()\n",
    "X_train = mms.fit_transform(X_train)\n",
    "X_test = mms.fit_transform(X_test)"
   ]
  },
  {
   "cell_type": "markdown",
   "id": "491e0bb9-b4ce-4b32-ba50-8fcfcdbe4155",
   "metadata": {},
   "source": [
    "## Modelling"
   ]
  },
  {
   "cell_type": "code",
   "execution_count": 656,
   "id": "b1a377ac-5a6c-4196-b7f5-1e863fc4b82c",
   "metadata": {},
   "outputs": [],
   "source": [
    "reg = LinearRegression().fit(X_train, y_train)\n",
    "preds = reg.predict(X_test)"
   ]
  },
  {
   "cell_type": "markdown",
   "id": "da90c82d-a591-47dc-84e4-186602f1da29",
   "metadata": {},
   "source": [
    "## Evaluation"
   ]
  },
  {
   "cell_type": "code",
   "execution_count": 658,
   "id": "9d8aa06b-cebd-4bdc-aca7-b2d5cb36017c",
   "metadata": {
    "scrolled": true
   },
   "outputs": [
    {
     "name": "stdout",
     "output_type": "stream",
     "text": [
      "The model performance for testing set\n",
      "--------------------------------------\n",
      "MAE is 3514.602680376034\n",
      "MSE is 28700039.065507136\n",
      "R2 score is 0.4286517310965453\n"
     ]
    }
   ],
   "source": [
    "mae = metrics.mean_absolute_error(y_test, preds)\n",
    "mse = metrics.mean_squared_error(y_test, preds)\n",
    "r2 = metrics.r2_score(y_test, preds)\n",
    "\n",
    "print(\"The model performance for testing set\")\n",
    "print(\"--------------------------------------\")\n",
    "print('MAE is {}'.format(mae))\n",
    "print('MSE is {}'.format(mse))\n",
    "print('R2 score is {}'.format(r2))"
   ]
  }
 ],
 "metadata": {
  "kernelspec": {
   "display_name": "Python 3 (ipykernel)",
   "language": "python",
   "name": "python3"
  },
  "language_info": {
   "codemirror_mode": {
    "name": "ipython",
    "version": 3
   },
   "file_extension": ".py",
   "mimetype": "text/x-python",
   "name": "python",
   "nbconvert_exporter": "python",
   "pygments_lexer": "ipython3",
   "version": "3.9.12"
  }
 },
 "nbformat": 4,
 "nbformat_minor": 5
}
